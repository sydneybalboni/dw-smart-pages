{
 "cells": [
  {
   "cell_type": "markdown",
   "id": "e260e86e",
   "metadata": {},
   "source": [
    "# Volume Prediction Pipeline"
   ]
  },
  {
   "cell_type": "markdown",
   "id": "c2c7bc31",
   "metadata": {},
   "source": [
    "___"
   ]
  },
  {
   "cell_type": "markdown",
   "id": "059daa19",
   "metadata": {},
   "source": [
    "## Imports"
   ]
  },
  {
   "cell_type": "code",
   "execution_count": null,
   "id": "3513a38f",
   "metadata": {},
   "outputs": [],
   "source": [
    "import pandas as pd\n",
    "import openai"
   ]
  },
  {
   "cell_type": "markdown",
   "id": "06bb8203",
   "metadata": {},
   "source": [
    "---"
   ]
  },
  {
   "cell_type": "markdown",
   "id": "2cf131e1",
   "metadata": {},
   "source": [
    "## Load Data and Evaluate it "
   ]
  },
  {
   "cell_type": "code",
   "execution_count": 14,
   "id": "f8f9ed95",
   "metadata": {},
   "outputs": [],
   "source": [
    "df = pd.read_csv('exhibit_list.csv')"
   ]
  },
  {
   "cell_type": "code",
   "execution_count": 15,
   "id": "74590c06",
   "metadata": {},
   "outputs": [
    {
     "name": "stdout",
     "output_type": "stream",
     "text": [
      "There are 113 exhibits in the list.\n"
     ]
    }
   ],
   "source": [
    "# How many exhibits are in the list?\n",
    "print('There are', len(df), 'exhibits in the list.')"
   ]
  },
  {
   "cell_type": "code",
   "execution_count": 16,
   "id": "eb3e7ab3",
   "metadata": {},
   "outputs": [
    {
     "name": "stdout",
     "output_type": "stream",
     "text": [
      "The columns in the dataframe are:\n",
      "Index(['Experience Name', 'Description', 'Intended Age Range (years old)',\n",
      "       'Content Difficulty (1-3)', 'Topics', 'GS Assistance',\n",
      "       'GS Priority/\\nPopularity', 'Average Visitor Duration', 'Copy',\n",
      "       'More Copy'],\n",
      "      dtype='object')\n"
     ]
    }
   ],
   "source": [
    "# What columns are in the df?\n",
    "print('The columns in the dataframe are:')\n",
    "print(df.columns)"
   ]
  },
  {
   "cell_type": "code",
   "execution_count": 17,
   "id": "ec6d418f",
   "metadata": {},
   "outputs": [],
   "source": [
    "# Sort the df by the 'GS Priority/\\nPopularity' column\n",
    "df = df.sort_values(by='GS Priority/\\nPopularity', ascending=False)"
   ]
  },
  {
   "cell_type": "code",
   "execution_count": 18,
   "id": "6cf87da8",
   "metadata": {},
   "outputs": [
    {
     "data": {
      "text/html": [
       "<div>\n",
       "<style scoped>\n",
       "    .dataframe tbody tr th:only-of-type {\n",
       "        vertical-align: middle;\n",
       "    }\n",
       "\n",
       "    .dataframe tbody tr th {\n",
       "        vertical-align: top;\n",
       "    }\n",
       "\n",
       "    .dataframe thead th {\n",
       "        text-align: right;\n",
       "    }\n",
       "</style>\n",
       "<table border=\"1\" class=\"dataframe\">\n",
       "  <thead>\n",
       "    <tr style=\"text-align: right;\">\n",
       "      <th></th>\n",
       "      <th>Experience Name</th>\n",
       "      <th>Description</th>\n",
       "      <th>Intended Age Range (years old)</th>\n",
       "      <th>Content Difficulty (1-3)</th>\n",
       "      <th>Topics</th>\n",
       "      <th>GS Assistance</th>\n",
       "      <th>GS Priority/\\nPopularity</th>\n",
       "      <th>Average Visitor Duration</th>\n",
       "      <th>Copy</th>\n",
       "      <th>More Copy</th>\n",
       "    </tr>\n",
       "  </thead>\n",
       "  <tbody>\n",
       "    <tr>\n",
       "      <th>98</th>\n",
       "      <td>Great Lakes Future Screens - Lake Huron</td>\n",
       "      <td>Two touch screen that contain information on L...</td>\n",
       "      <td>8 +</td>\n",
       "      <td>2.0</td>\n",
       "      <td>Great Lakes, invasive species, history, readin...</td>\n",
       "      <td>Float</td>\n",
       "      <td>5</td>\n",
       "      <td>1 - 2 mins</td>\n",
       "      <td>NaN</td>\n",
       "      <td>NaN</td>\n",
       "    </tr>\n",
       "    <tr>\n",
       "      <th>80</th>\n",
       "      <td>Greenseams</td>\n",
       "      <td>Experience that highlights MMSD's Greenseams i...</td>\n",
       "      <td>8 - 15</td>\n",
       "      <td>2.0</td>\n",
       "      <td>MMSD, water, flooding, watershed</td>\n",
       "      <td>No</td>\n",
       "      <td>5</td>\n",
       "      <td>1 - 2 mins</td>\n",
       "      <td>NaN</td>\n",
       "      <td>NaN</td>\n",
       "    </tr>\n",
       "    <tr>\n",
       "      <th>100</th>\n",
       "      <td>Great Lakes Future Screens - Lake Ontario</td>\n",
       "      <td>Two touch screen that contain information on L...</td>\n",
       "      <td>8 +</td>\n",
       "      <td>2.0</td>\n",
       "      <td>Great Lakes, invasive species, history, readin...</td>\n",
       "      <td>Float</td>\n",
       "      <td>5</td>\n",
       "      <td>1 - 2 mins</td>\n",
       "      <td>NaN</td>\n",
       "      <td>NaN</td>\n",
       "    </tr>\n",
       "    <tr>\n",
       "      <th>32</th>\n",
       "      <td>Les &amp; Leo</td>\n",
       "      <td>Visual experience that shows a 1951 Telecaster...</td>\n",
       "      <td>8 - 18</td>\n",
       "      <td>2.0</td>\n",
       "      <td>Les Paul, Leo Fender, Gibson, Fender, guitar, ...</td>\n",
       "      <td>No</td>\n",
       "      <td>5</td>\n",
       "      <td>NaN</td>\n",
       "      <td>Les &amp; Leo\\nGibson vs. Fender is one of music h...</td>\n",
       "      <td>NaN</td>\n",
       "    </tr>\n",
       "    <tr>\n",
       "      <th>33</th>\n",
       "      <td>Les' First Invention</td>\n",
       "      <td>Users can view the first ever neck-mounted har...</td>\n",
       "      <td>All Ages</td>\n",
       "      <td>1.0</td>\n",
       "      <td>Les Paul, history, invention, harmonica, music</td>\n",
       "      <td>No</td>\n",
       "      <td>5</td>\n",
       "      <td>NaN</td>\n",
       "      <td>Les' First Invention\\nFlip-able harmonica hold...</td>\n",
       "      <td>NaN</td>\n",
       "    </tr>\n",
       "  </tbody>\n",
       "</table>\n",
       "</div>"
      ],
      "text/plain": [
       "                               Experience Name  \\\n",
       "98     Great Lakes Future Screens - Lake Huron   \n",
       "80                                  Greenseams   \n",
       "100  Great Lakes Future Screens - Lake Ontario   \n",
       "32                                   Les & Leo   \n",
       "33                        Les' First Invention   \n",
       "\n",
       "                                           Description  \\\n",
       "98   Two touch screen that contain information on L...   \n",
       "80   Experience that highlights MMSD's Greenseams i...   \n",
       "100  Two touch screen that contain information on L...   \n",
       "32   Visual experience that shows a 1951 Telecaster...   \n",
       "33   Users can view the first ever neck-mounted har...   \n",
       "\n",
       "    Intended Age Range (years old)  Content Difficulty (1-3)  \\\n",
       "98                             8 +                       2.0   \n",
       "80                          8 - 15                       2.0   \n",
       "100                            8 +                       2.0   \n",
       "32                          8 - 18                       2.0   \n",
       "33                        All Ages                       1.0   \n",
       "\n",
       "                                                Topics GS Assistance  \\\n",
       "98   Great Lakes, invasive species, history, readin...         Float   \n",
       "80                    MMSD, water, flooding, watershed            No   \n",
       "100  Great Lakes, invasive species, history, readin...         Float   \n",
       "32   Les Paul, Leo Fender, Gibson, Fender, guitar, ...            No   \n",
       "33      Les Paul, history, invention, harmonica, music            No   \n",
       "\n",
       "    GS Priority/\\nPopularity Average Visitor Duration  \\\n",
       "98                         5               1 - 2 mins   \n",
       "80                         5               1 - 2 mins   \n",
       "100                        5               1 - 2 mins   \n",
       "32                         5                      NaN   \n",
       "33                         5                      NaN   \n",
       "\n",
       "                                                  Copy More Copy  \n",
       "98                                                 NaN       NaN  \n",
       "80                                                 NaN       NaN  \n",
       "100                                                NaN       NaN  \n",
       "32   Les & Leo\\nGibson vs. Fender is one of music h...       NaN  \n",
       "33   Les' First Invention\\nFlip-able harmonica hold...       NaN  "
      ]
     },
     "execution_count": 18,
     "metadata": {},
     "output_type": "execute_result"
    }
   ],
   "source": [
    "df.head()"
   ]
  },
  {
   "cell_type": "code",
   "execution_count": 19,
   "id": "4cf64ca7",
   "metadata": {},
   "outputs": [
    {
     "data": {
      "text/plain": [
       "array(['5', '4', '3', '2', '1', '-', nan], dtype=object)"
      ]
     },
     "execution_count": 19,
     "metadata": {},
     "output_type": "execute_result"
    }
   ],
   "source": [
    "df['GS Priority/\\nPopularity'].unique()"
   ]
  },
  {
   "cell_type": "code",
   "execution_count": 24,
   "id": "e6edf7af",
   "metadata": {},
   "outputs": [],
   "source": [
    "df.to_csv('exhibit_list_sorted.csv', index=False)"
   ]
  },
  {
   "cell_type": "code",
   "execution_count": 25,
   "id": "b6f85ab1",
   "metadata": {},
   "outputs": [],
   "source": [
    "df[:10].to_csv('top_10_exhibits.csv', index=False)"
   ]
  },
  {
   "cell_type": "code",
   "execution_count": 27,
   "id": "fba91702",
   "metadata": {},
   "outputs": [],
   "source": [
    "# Save a csv with all exhibits with 5 for 'GS Priority/\\nPopularity'\n",
    "df[df['GS Priority/\\nPopularity'] == '5'].to_csv('top_exhibits.csv', index=False)"
   ]
  },
  {
   "cell_type": "markdown",
   "id": "3978a49b",
   "metadata": {},
   "source": [
    "---"
   ]
  },
  {
   "cell_type": "markdown",
   "id": "ba8e1c48",
   "metadata": {},
   "source": [
    "## Generate Descriptions in English Using OpenAI"
   ]
  },
  {
   "cell_type": "code",
   "execution_count": null,
   "id": "abcc7743",
   "metadata": {},
   "outputs": [],
   "source": []
  }
 ],
 "metadata": {
  "kernelspec": {
   "display_name": "Python 3",
   "language": "python",
   "name": "python3"
  },
  "language_info": {
   "codemirror_mode": {
    "name": "ipython",
    "version": 3
   },
   "file_extension": ".py",
   "mimetype": "text/x-python",
   "name": "python",
   "nbconvert_exporter": "python",
   "pygments_lexer": "ipython3",
   "version": "3.12.4"
  },
  "varInspector": {
   "cols": {
    "lenName": 16,
    "lenType": 16,
    "lenVar": 40
   },
   "kernels_config": {
    "python": {
     "delete_cmd_postfix": "",
     "delete_cmd_prefix": "del ",
     "library": "var_list.py",
     "varRefreshCmd": "print(var_dic_list())"
    },
    "r": {
     "delete_cmd_postfix": ") ",
     "delete_cmd_prefix": "rm(",
     "library": "var_list.r",
     "varRefreshCmd": "cat(var_dic_list()) "
    }
   },
   "types_to_exclude": [
    "module",
    "function",
    "builtin_function_or_method",
    "instance",
    "_Feature"
   ],
   "window_display": false
  }
 },
 "nbformat": 4,
 "nbformat_minor": 5
}
